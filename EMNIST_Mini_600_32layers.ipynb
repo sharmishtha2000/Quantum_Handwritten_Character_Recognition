{
  "cells": [
    {
      "cell_type": "markdown",
      "metadata": {
        "id": "view-in-github",
        "colab_type": "text"
      },
      "source": [
        "<a href=\"https://colab.research.google.com/github/sharmishtha2000/Quantum_Handwritten_Character_Recognition/blob/main/EMNIST_Mini_600_32layers.ipynb\" target=\"_parent\"><img src=\"https://colab.research.google.com/assets/colab-badge.svg\" alt=\"Open In Colab\"/></a>"
      ]
    },
    {
      "cell_type": "code",
      "source": [
        "from google.colab import drive\n",
        "drive.mount(\"/content/gdrive\", force_remount=True)"
      ],
      "metadata": {
        "colab": {
          "base_uri": "https://localhost:8080/"
        },
        "id": "io_ltV-Pv1GM",
        "outputId": "c3ff12a7-bd5c-40e3-e460-995d99252851"
      },
      "execution_count": null,
      "outputs": [
        {
          "output_type": "stream",
          "name": "stdout",
          "text": [
            "Mounted at /content/gdrive\n"
          ]
        }
      ]
    },
    {
      "cell_type": "code",
      "source": [
        "!pip install pennylane"
      ],
      "metadata": {
        "colab": {
          "base_uri": "https://localhost:8080/"
        },
        "id": "sibK3MakwWyT",
        "outputId": "aea4672e-4adf-40c8-8923-643a87fa91a5"
      },
      "execution_count": null,
      "outputs": [
        {
          "output_type": "stream",
          "name": "stdout",
          "text": [
            "Looking in indexes: https://pypi.org/simple, https://us-python.pkg.dev/colab-wheels/public/simple/\n",
            "Collecting pennylane\n",
            "  Downloading PennyLane-0.24.0-py3-none-any.whl (957 kB)\n",
            "\u001b[K     |████████████████████████████████| 957 kB 5.2 MB/s \n",
            "\u001b[?25hCollecting toml\n",
            "  Downloading toml-0.10.2-py2.py3-none-any.whl (16 kB)\n",
            "Requirement already satisfied: cachetools in /usr/local/lib/python3.7/dist-packages (from pennylane) (4.2.4)\n",
            "Requirement already satisfied: networkx in /usr/local/lib/python3.7/dist-packages (from pennylane) (2.6.3)\n",
            "Requirement already satisfied: autograd in /usr/local/lib/python3.7/dist-packages (from pennylane) (1.4)\n",
            "Collecting retworkx\n",
            "  Downloading retworkx-0.11.0-cp37-cp37m-manylinux_2_5_x86_64.manylinux1_x86_64.manylinux_2_12_x86_64.manylinux2010_x86_64.whl (1.6 MB)\n",
            "\u001b[K     |████████████████████████████████| 1.6 MB 48.2 MB/s \n",
            "\u001b[?25hRequirement already satisfied: scipy in /usr/local/lib/python3.7/dist-packages (from pennylane) (1.4.1)\n",
            "Collecting pennylane-lightning>=0.24\n",
            "  Downloading PennyLane_Lightning-0.24.0-cp37-cp37m-manylinux_2_17_x86_64.manylinux2014_x86_64.whl (9.3 MB)\n",
            "\u001b[K     |████████████████████████████████| 9.3 MB 24.0 MB/s \n",
            "\u001b[?25hRequirement already satisfied: numpy in /usr/local/lib/python3.7/dist-packages (from pennylane) (1.21.6)\n",
            "Collecting semantic-version==2.6\n",
            "  Downloading semantic_version-2.6.0-py3-none-any.whl (14 kB)\n",
            "Collecting autoray>=0.3.1\n",
            "  Downloading autoray-0.3.2-py3-none-any.whl (36 kB)\n",
            "Requirement already satisfied: appdirs in /usr/local/lib/python3.7/dist-packages (from pennylane) (1.4.4)\n",
            "Collecting ninja\n",
            "  Downloading ninja-1.10.2.3-py2.py3-none-manylinux_2_5_x86_64.manylinux1_x86_64.whl (108 kB)\n",
            "\u001b[K     |████████████████████████████████| 108 kB 64.5 MB/s \n",
            "\u001b[?25hRequirement already satisfied: future>=0.15.2 in /usr/local/lib/python3.7/dist-packages (from autograd->pennylane) (0.16.0)\n",
            "Installing collected packages: ninja, toml, semantic-version, retworkx, pennylane-lightning, autoray, pennylane\n",
            "Successfully installed autoray-0.3.2 ninja-1.10.2.3 pennylane-0.24.0 pennylane-lightning-0.24.0 retworkx-0.11.0 semantic-version-2.6.0 toml-0.10.2\n"
          ]
        }
      ]
    },
    {
      "cell_type": "code",
      "execution_count": null,
      "metadata": {
        "id": "o5In2UjXbVlI"
      },
      "outputs": [],
      "source": [
        "import pennylane as qml\n",
        "from pennylane import numpy as np\n",
        "from pennylane.templates import RandomLayers\n",
        "import tensorflow as tf\n",
        "from tensorflow import keras\n",
        "import matplotlib.pyplot as plt\n",
        "import pandas as pd\n",
        "import numpy as np"
      ]
    },
    {
      "cell_type": "code",
      "execution_count": null,
      "metadata": {
        "id": "bn2PZK16b_zW"
      },
      "outputs": [],
      "source": [
        "n_epochs = 20\n",
        "n_layers = 8\n",
        "n_train =2500\n",
        "n_test = 1000\n",
        "\n",
        "SAVE_PATH = \"/content/gdrive/My Drive/QIP/emnist/quanvolution_train_mini_layer32/\"\n",
        "PREPROCESS = True\n",
        "np.random.seed(0)\n",
        "tf.random.set_seed(0)"
      ]
    },
    {
      "cell_type": "code",
      "source": [
        "\n",
        "train = pd.read_csv('/content/gdrive/My Drive/QIP/emnist/emnist-letters-train.csv')\n"
      ],
      "metadata": {
        "id": "r-X_7SNGwoXM"
      },
      "execution_count": null,
      "outputs": []
    },
    {
      "cell_type": "code",
      "source": [
        "print('training dataset dimensions: ', train.shape)\n"
      ],
      "metadata": {
        "colab": {
          "base_uri": "https://localhost:8080/"
        },
        "id": "1Oa3hD1mtv0m",
        "outputId": "96501300-068f-410d-87ec-edc442ca0ccf"
      },
      "execution_count": null,
      "outputs": [
        {
          "output_type": "stream",
          "name": "stdout",
          "text": [
            "training dataset dimensions:  (88799, 785)\n"
          ]
        }
      ]
    },
    {
      "cell_type": "code",
      "source": [
        "columns = ['labels']\n",
        "for i in range(train.shape[1]-1):\n",
        "    columns.append(i)\n",
        "\n",
        "train.columns = columns\n",
        "print(\"col\", columns)\n",
        "classes = sorted(train['labels'].unique())\n",
        "print('number of classes: ', len(classes))\n",
        "print(\"classes\", classes)"
      ],
      "metadata": {
        "colab": {
          "base_uri": "https://localhost:8080/"
        },
        "id": "l2uXLFaYuByg",
        "outputId": "8163afb6-300d-48b7-a68e-366c5e538b5a"
      },
      "execution_count": null,
      "outputs": [
        {
          "output_type": "stream",
          "name": "stdout",
          "text": [
            "col ['labels', 0, 1, 2, 3, 4, 5, 6, 7, 8, 9, 10, 11, 12, 13, 14, 15, 16, 17, 18, 19, 20, 21, 22, 23, 24, 25, 26, 27, 28, 29, 30, 31, 32, 33, 34, 35, 36, 37, 38, 39, 40, 41, 42, 43, 44, 45, 46, 47, 48, 49, 50, 51, 52, 53, 54, 55, 56, 57, 58, 59, 60, 61, 62, 63, 64, 65, 66, 67, 68, 69, 70, 71, 72, 73, 74, 75, 76, 77, 78, 79, 80, 81, 82, 83, 84, 85, 86, 87, 88, 89, 90, 91, 92, 93, 94, 95, 96, 97, 98, 99, 100, 101, 102, 103, 104, 105, 106, 107, 108, 109, 110, 111, 112, 113, 114, 115, 116, 117, 118, 119, 120, 121, 122, 123, 124, 125, 126, 127, 128, 129, 130, 131, 132, 133, 134, 135, 136, 137, 138, 139, 140, 141, 142, 143, 144, 145, 146, 147, 148, 149, 150, 151, 152, 153, 154, 155, 156, 157, 158, 159, 160, 161, 162, 163, 164, 165, 166, 167, 168, 169, 170, 171, 172, 173, 174, 175, 176, 177, 178, 179, 180, 181, 182, 183, 184, 185, 186, 187, 188, 189, 190, 191, 192, 193, 194, 195, 196, 197, 198, 199, 200, 201, 202, 203, 204, 205, 206, 207, 208, 209, 210, 211, 212, 213, 214, 215, 216, 217, 218, 219, 220, 221, 222, 223, 224, 225, 226, 227, 228, 229, 230, 231, 232, 233, 234, 235, 236, 237, 238, 239, 240, 241, 242, 243, 244, 245, 246, 247, 248, 249, 250, 251, 252, 253, 254, 255, 256, 257, 258, 259, 260, 261, 262, 263, 264, 265, 266, 267, 268, 269, 270, 271, 272, 273, 274, 275, 276, 277, 278, 279, 280, 281, 282, 283, 284, 285, 286, 287, 288, 289, 290, 291, 292, 293, 294, 295, 296, 297, 298, 299, 300, 301, 302, 303, 304, 305, 306, 307, 308, 309, 310, 311, 312, 313, 314, 315, 316, 317, 318, 319, 320, 321, 322, 323, 324, 325, 326, 327, 328, 329, 330, 331, 332, 333, 334, 335, 336, 337, 338, 339, 340, 341, 342, 343, 344, 345, 346, 347, 348, 349, 350, 351, 352, 353, 354, 355, 356, 357, 358, 359, 360, 361, 362, 363, 364, 365, 366, 367, 368, 369, 370, 371, 372, 373, 374, 375, 376, 377, 378, 379, 380, 381, 382, 383, 384, 385, 386, 387, 388, 389, 390, 391, 392, 393, 394, 395, 396, 397, 398, 399, 400, 401, 402, 403, 404, 405, 406, 407, 408, 409, 410, 411, 412, 413, 414, 415, 416, 417, 418, 419, 420, 421, 422, 423, 424, 425, 426, 427, 428, 429, 430, 431, 432, 433, 434, 435, 436, 437, 438, 439, 440, 441, 442, 443, 444, 445, 446, 447, 448, 449, 450, 451, 452, 453, 454, 455, 456, 457, 458, 459, 460, 461, 462, 463, 464, 465, 466, 467, 468, 469, 470, 471, 472, 473, 474, 475, 476, 477, 478, 479, 480, 481, 482, 483, 484, 485, 486, 487, 488, 489, 490, 491, 492, 493, 494, 495, 496, 497, 498, 499, 500, 501, 502, 503, 504, 505, 506, 507, 508, 509, 510, 511, 512, 513, 514, 515, 516, 517, 518, 519, 520, 521, 522, 523, 524, 525, 526, 527, 528, 529, 530, 531, 532, 533, 534, 535, 536, 537, 538, 539, 540, 541, 542, 543, 544, 545, 546, 547, 548, 549, 550, 551, 552, 553, 554, 555, 556, 557, 558, 559, 560, 561, 562, 563, 564, 565, 566, 567, 568, 569, 570, 571, 572, 573, 574, 575, 576, 577, 578, 579, 580, 581, 582, 583, 584, 585, 586, 587, 588, 589, 590, 591, 592, 593, 594, 595, 596, 597, 598, 599, 600, 601, 602, 603, 604, 605, 606, 607, 608, 609, 610, 611, 612, 613, 614, 615, 616, 617, 618, 619, 620, 621, 622, 623, 624, 625, 626, 627, 628, 629, 630, 631, 632, 633, 634, 635, 636, 637, 638, 639, 640, 641, 642, 643, 644, 645, 646, 647, 648, 649, 650, 651, 652, 653, 654, 655, 656, 657, 658, 659, 660, 661, 662, 663, 664, 665, 666, 667, 668, 669, 670, 671, 672, 673, 674, 675, 676, 677, 678, 679, 680, 681, 682, 683, 684, 685, 686, 687, 688, 689, 690, 691, 692, 693, 694, 695, 696, 697, 698, 699, 700, 701, 702, 703, 704, 705, 706, 707, 708, 709, 710, 711, 712, 713, 714, 715, 716, 717, 718, 719, 720, 721, 722, 723, 724, 725, 726, 727, 728, 729, 730, 731, 732, 733, 734, 735, 736, 737, 738, 739, 740, 741, 742, 743, 744, 745, 746, 747, 748, 749, 750, 751, 752, 753, 754, 755, 756, 757, 758, 759, 760, 761, 762, 763, 764, 765, 766, 767, 768, 769, 770, 771, 772, 773, 774, 775, 776, 777, 778, 779, 780, 781, 782, 783]\n",
            "number of classes:  26\n",
            "classes [1, 2, 3, 4, 5, 6, 7, 8, 9, 10, 11, 12, 13, 14, 15, 16, 17, 18, 19, 20, 21, 22, 23, 24, 25, 26]\n"
          ]
        }
      ]
    },
    {
      "cell_type": "code",
      "source": [
        "from sklearn.model_selection import train_test_split\n",
        "\n",
        "x_train, x_val, y_train, y_val = train_test_split(train.drop(['labels'], axis=1),\n",
        "                                                  train.labels - 1,\n",
        "                                                  train_size=600,\n",
        "                                                  test_size=150,\n",
        "                                                  random_state=0,\n",
        "                                                  stratify=train.labels - 1)\n",
        "\n",
        "x_train = x_train / 255.0\n",
        "x_val = x_val / 255.0\n",
        "\n",
        "x_train = x_train.values.reshape(x_train.shape[0],28, 28, 1).astype('float32')\n",
        "x_val = x_val.values.reshape(x_val.shape[0],28, 28, 1).astype('float32')\n",
        "\n",
        "print('trianing set: ', x_train.shape, y_train.shape)\n",
        "print('validation set: ', x_val.shape, y_val.shape)\n",
        "type(x_train)"
      ],
      "metadata": {
        "colab": {
          "base_uri": "https://localhost:8080/"
        },
        "id": "9kjkt_9CuVef",
        "outputId": "410bfaf1-87a2-45df-d999-e3200d1dd2a6"
      },
      "execution_count": null,
      "outputs": [
        {
          "output_type": "stream",
          "name": "stdout",
          "text": [
            "trianing set:  (600, 28, 28, 1) (600,)\n",
            "validation set:  (150, 28, 28, 1) (150,)\n"
          ]
        },
        {
          "output_type": "execute_result",
          "data": {
            "text/plain": [
              "numpy.ndarray"
            ]
          },
          "metadata": {},
          "execution_count": 8
        }
      ]
    },
    {
      "cell_type": "code",
      "execution_count": null,
      "metadata": {
        "id": "kr5NhuZ8cR1K"
      },
      "outputs": [],
      "source": [
        "# dev = qml.device('qiskit.ibmq', wires=4, backend='ibmq_qasm_simulator', ibmqx_token=\"1d30263a2656825b899d953e66f24560a5805c19db74fbcf942161ccdb5ecc066fb7438e77eed4e1bb8665d5e71d2c38b56547f52338fa7c9236b65318079977\")\n",
        "# dev.capabilities()['backend']\n",
        "#dev = qml.device(\"qiskit.aer\", wires=4)\n",
        "dev = qml.device(\"default.qubit\", wires=4)\n",
        "\n",
        "rand_params = np.random.uniform(high=2 * np.pi, size=(n_layers, 4))\n",
        "\n",
        "@qml.qnode(dev)\n",
        "def circuit(phi):\n",
        "    for j in range(4):\n",
        "        qml.RX(np.pi * phi[j], wires=j)\n",
        "\n",
        "    RandomLayers(rand_params, wires=list(range(4)))\n",
        "\n",
        "    return [qml.expval(qml.PauliZ(j)) for j in range(4)]"
      ]
    },
    {
      "cell_type": "code",
      "source": [
        "print(rand_params)"
      ],
      "metadata": {
        "colab": {
          "base_uri": "https://localhost:8080/"
        },
        "id": "9ORC_AZbNYLH",
        "outputId": "50288d0b-3073-40d0-d777-eae46f33cfcb"
      },
      "execution_count": null,
      "outputs": [
        {
          "output_type": "stream",
          "name": "stdout",
          "text": [
            "[[3.44829694 4.49366732 3.78727399 3.42360201]\n",
            " [2.66190161 4.0582724  2.74944154 5.60317502]\n",
            " [6.0548717  2.40923412 4.97455513 3.32314479]\n",
            " [3.56912924 5.8156952  0.44633272 0.54744954]\n",
            " [0.12703594 5.23150478 4.88930306 5.46644755]\n",
            " [6.14884039 5.02126135 2.89956035 4.90420945]\n",
            " [0.74314013 4.02074236 0.90071527 5.93552986]\n",
            " [3.27886971 2.60539781 1.66225193 4.86465374]]\n"
          ]
        }
      ]
    },
    {
      "cell_type": "code",
      "source": [
        "drawer = qml.draw(circuit, show_all_wires=True)\n",
        "print(drawer(rand_params[0]))"
      ],
      "metadata": {
        "colab": {
          "base_uri": "https://localhost:8080/"
        },
        "id": "xd_9ZNuUM4vd",
        "outputId": "65ad6ddf-d550-40c7-be5c-59156472a6da"
      },
      "execution_count": null,
      "outputs": [
        {
          "output_type": "stream",
          "name": "stdout",
          "text": [
            "0: ──RX(10.83)─╭RandomLayers(M0)─┤  <Z>\n",
            "1: ──RX(14.12)─├RandomLayers(M0)─┤  <Z>\n",
            "2: ──RX(11.90)─├RandomLayers(M0)─┤  <Z>\n",
            "3: ──RX(10.76)─╰RandomLayers(M0)─┤  <Z>\n"
          ]
        }
      ]
    },
    {
      "cell_type": "code",
      "source": [
        "def quanv(image):\n",
        "    \"\"\"Convolves the input image with many applications of the same quantum circuit.\"\"\"\n",
        "    out = np.zeros((14, 14, 4))\n",
        "\n",
        "    for j in range(0, 28, 2):\n",
        "        for k in range(0, 28, 2):\n",
        "            q_results = circuit(\n",
        "                [\n",
        "                    image[j, k, 0],\n",
        "                    image[j, k + 1, 0],\n",
        "                    image[j + 1, k, 0],\n",
        "                    image[j + 1, k + 1, 0]\n",
        "                ]\n",
        "            )\n",
        "            for c in range(4):\n",
        "                out[j // 2, k // 2, c] = q_results[c]\n",
        "    return out"
      ],
      "metadata": {
        "id": "Cvp8A6hMxr3I"
      },
      "execution_count": null,
      "outputs": []
    },
    {
      "cell_type": "code",
      "source": [
        "if PREPROCESS == True:\n",
        "    q_train_images = []\n",
        "    print(\"Quantum pre-processing of train images:\")\n",
        "    for idx, img in enumerate(x_train):\n",
        "        print(idx + 1, \"/\", x_train.shape[0])\n",
        "        q_train_images.append(quanv(img))\n",
        "    q_train_images = np.asarray(q_train_images)\n",
        "    np.save(SAVE_PATH + \"q_train_images.npy\", q_train_images)\n",
        "    q_test_images = []\n",
        "    print(\"\\nQuantum pre-processing of test images:\")\n",
        "    for idx, img in enumerate(x_val):\n",
        "        print(idx + 1, \"/\", x_val.shape[0])\n",
        "        q_test_images.append(quanv(img))\n",
        "    q_test_images = np.asarray(q_test_images)\n",
        "\n",
        "    # Save pre-processed images\n",
        "    np.save(SAVE_PATH + \"q_test_images.npy\", q_test_images)\n",
        "\n",
        "\n",
        "# Load pre-processed images\n",
        "q_train_images = np.load(SAVE_PATH + \"q_train_images.npy\")\n",
        "q_test_images = np.load(SAVE_PATH + \"q_test_images.npy\")"
      ],
      "metadata": {
        "id": "O27uCPLsxujA",
        "colab": {
          "base_uri": "https://localhost:8080/"
        },
        "outputId": "389dacba-c8fc-441c-fe11-1c7f5d1e5fca"
      },
      "execution_count": null,
      "outputs": [
        {
          "output_type": "stream",
          "name": "stdout",
          "text": [
            "Quantum pre-processing of train images:\n",
            "1 / 600\n",
            "2 / 600\n",
            "3 / 600\n",
            "4 / 600\n",
            "5 / 600\n",
            "6 / 600\n",
            "7 / 600\n",
            "8 / 600\n",
            "9 / 600\n",
            "10 / 600\n",
            "11 / 600\n",
            "12 / 600\n",
            "13 / 600\n",
            "14 / 600\n",
            "15 / 600\n",
            "16 / 600\n",
            "17 / 600\n",
            "18 / 600\n",
            "19 / 600\n",
            "20 / 600\n",
            "21 / 600\n",
            "22 / 600\n",
            "23 / 600\n",
            "24 / 600\n",
            "25 / 600\n",
            "26 / 600\n",
            "27 / 600\n",
            "28 / 600\n",
            "29 / 600\n",
            "30 / 600\n",
            "31 / 600\n",
            "32 / 600\n",
            "33 / 600\n",
            "34 / 600\n",
            "35 / 600\n",
            "36 / 600\n",
            "37 / 600\n",
            "38 / 600\n",
            "39 / 600\n",
            "40 / 600\n",
            "41 / 600\n",
            "42 / 600\n",
            "43 / 600\n",
            "44 / 600\n",
            "45 / 600\n",
            "46 / 600\n",
            "47 / 600\n",
            "48 / 600\n",
            "49 / 600\n",
            "50 / 600\n",
            "51 / 600\n",
            "52 / 600\n",
            "53 / 600\n",
            "54 / 600\n",
            "55 / 600\n",
            "56 / 600\n",
            "57 / 600\n",
            "58 / 600\n",
            "59 / 600\n",
            "60 / 600\n",
            "61 / 600\n",
            "62 / 600\n",
            "63 / 600\n",
            "64 / 600\n",
            "65 / 600\n",
            "66 / 600\n",
            "67 / 600\n",
            "68 / 600\n",
            "69 / 600\n",
            "70 / 600\n",
            "71 / 600\n",
            "72 / 600\n",
            "73 / 600\n",
            "74 / 600\n",
            "75 / 600\n",
            "76 / 600\n",
            "77 / 600\n",
            "78 / 600\n",
            "79 / 600\n",
            "80 / 600\n",
            "81 / 600\n",
            "82 / 600\n",
            "83 / 600\n",
            "84 / 600\n",
            "85 / 600\n",
            "86 / 600\n",
            "87 / 600\n",
            "88 / 600\n",
            "89 / 600\n",
            "90 / 600\n",
            "91 / 600\n",
            "92 / 600\n",
            "93 / 600\n",
            "94 / 600\n",
            "95 / 600\n",
            "96 / 600\n",
            "97 / 600\n",
            "98 / 600\n",
            "99 / 600\n",
            "100 / 600\n",
            "101 / 600\n",
            "102 / 600\n",
            "103 / 600\n",
            "104 / 600\n",
            "105 / 600\n",
            "106 / 600\n",
            "107 / 600\n",
            "108 / 600\n",
            "109 / 600\n",
            "110 / 600\n",
            "111 / 600\n",
            "112 / 600\n",
            "113 / 600\n",
            "114 / 600\n",
            "115 / 600\n",
            "116 / 600\n",
            "117 / 600\n",
            "118 / 600\n",
            "119 / 600\n",
            "120 / 600\n",
            "121 / 600\n",
            "122 / 600\n",
            "123 / 600\n",
            "124 / 600\n",
            "125 / 600\n",
            "126 / 600\n",
            "127 / 600\n",
            "128 / 600\n",
            "129 / 600\n",
            "130 / 600\n",
            "131 / 600\n",
            "132 / 600\n",
            "133 / 600\n",
            "134 / 600\n",
            "135 / 600\n",
            "136 / 600\n",
            "137 / 600\n",
            "138 / 600\n",
            "139 / 600\n",
            "140 / 600\n",
            "141 / 600\n",
            "142 / 600\n",
            "143 / 600\n",
            "144 / 600\n",
            "145 / 600\n",
            "146 / 600\n",
            "147 / 600\n",
            "148 / 600\n",
            "149 / 600\n",
            "150 / 600\n",
            "151 / 600\n",
            "152 / 600\n",
            "153 / 600\n",
            "154 / 600\n",
            "155 / 600\n",
            "156 / 600\n",
            "157 / 600\n",
            "158 / 600\n",
            "159 / 600\n",
            "160 / 600\n",
            "161 / 600\n",
            "162 / 600\n",
            "163 / 600\n",
            "164 / 600\n",
            "165 / 600\n",
            "166 / 600\n",
            "167 / 600\n",
            "168 / 600\n",
            "169 / 600\n",
            "170 / 600\n",
            "171 / 600\n",
            "172 / 600\n",
            "173 / 600\n",
            "174 / 600\n",
            "175 / 600\n",
            "176 / 600\n",
            "177 / 600\n",
            "178 / 600\n",
            "179 / 600\n",
            "180 / 600\n",
            "181 / 600\n",
            "182 / 600\n",
            "183 / 600\n",
            "184 / 600\n",
            "185 / 600\n",
            "186 / 600\n",
            "187 / 600\n",
            "188 / 600\n",
            "189 / 600\n",
            "190 / 600\n",
            "191 / 600\n",
            "192 / 600\n",
            "193 / 600\n",
            "194 / 600\n",
            "195 / 600\n",
            "196 / 600\n",
            "197 / 600\n",
            "198 / 600\n",
            "199 / 600\n",
            "200 / 600\n",
            "201 / 600\n",
            "202 / 600\n",
            "203 / 600\n",
            "204 / 600\n",
            "205 / 600\n",
            "206 / 600\n",
            "207 / 600\n",
            "208 / 600\n",
            "209 / 600\n",
            "210 / 600\n",
            "211 / 600\n",
            "212 / 600\n",
            "213 / 600\n",
            "214 / 600\n",
            "215 / 600\n",
            "216 / 600\n",
            "217 / 600\n",
            "218 / 600\n",
            "219 / 600\n",
            "220 / 600\n",
            "221 / 600\n",
            "222 / 600\n",
            "223 / 600\n",
            "224 / 600\n",
            "225 / 600\n",
            "226 / 600\n",
            "227 / 600\n",
            "228 / 600\n",
            "229 / 600\n",
            "230 / 600\n",
            "231 / 600\n",
            "232 / 600\n",
            "233 / 600\n",
            "234 / 600\n",
            "235 / 600\n",
            "236 / 600\n",
            "237 / 600\n",
            "238 / 600\n",
            "239 / 600\n",
            "240 / 600\n",
            "241 / 600\n",
            "242 / 600\n",
            "243 / 600\n",
            "244 / 600\n",
            "245 / 600\n",
            "246 / 600\n",
            "247 / 600\n",
            "248 / 600\n",
            "249 / 600\n",
            "250 / 600\n",
            "251 / 600\n",
            "252 / 600\n",
            "253 / 600\n",
            "254 / 600\n",
            "255 / 600\n",
            "256 / 600\n",
            "257 / 600\n",
            "258 / 600\n",
            "259 / 600\n",
            "260 / 600\n",
            "261 / 600\n",
            "262 / 600\n",
            "263 / 600\n",
            "264 / 600\n",
            "265 / 600\n",
            "266 / 600\n",
            "267 / 600\n",
            "268 / 600\n",
            "269 / 600\n",
            "270 / 600\n",
            "271 / 600\n",
            "272 / 600\n",
            "273 / 600\n",
            "274 / 600\n",
            "275 / 600\n",
            "276 / 600\n",
            "277 / 600\n",
            "278 / 600\n",
            "279 / 600\n",
            "280 / 600\n",
            "281 / 600\n",
            "282 / 600\n",
            "283 / 600\n",
            "284 / 600\n",
            "285 / 600\n",
            "286 / 600\n",
            "287 / 600\n",
            "288 / 600\n",
            "289 / 600\n",
            "290 / 600\n",
            "291 / 600\n",
            "292 / 600\n",
            "293 / 600\n",
            "294 / 600\n",
            "295 / 600\n",
            "296 / 600\n",
            "297 / 600\n",
            "298 / 600\n",
            "299 / 600\n",
            "300 / 600\n",
            "301 / 600\n",
            "302 / 600\n",
            "303 / 600\n",
            "304 / 600\n",
            "305 / 600\n",
            "306 / 600\n",
            "307 / 600\n",
            "308 / 600\n",
            "309 / 600\n",
            "310 / 600\n",
            "311 / 600\n",
            "312 / 600\n",
            "313 / 600\n",
            "314 / 600\n",
            "315 / 600\n",
            "316 / 600\n",
            "317 / 600\n",
            "318 / 600\n",
            "319 / 600\n",
            "320 / 600\n",
            "321 / 600\n",
            "322 / 600\n",
            "323 / 600\n",
            "324 / 600\n",
            "325 / 600\n",
            "326 / 600\n",
            "327 / 600\n",
            "328 / 600\n",
            "329 / 600\n",
            "330 / 600\n",
            "331 / 600\n",
            "332 / 600\n",
            "333 / 600\n",
            "334 / 600\n",
            "335 / 600\n",
            "336 / 600\n",
            "337 / 600\n",
            "338 / 600\n",
            "339 / 600\n",
            "340 / 600\n",
            "341 / 600\n",
            "342 / 600\n",
            "343 / 600\n",
            "344 / 600\n",
            "345 / 600\n",
            "346 / 600\n",
            "347 / 600\n",
            "348 / 600\n",
            "349 / 600\n",
            "350 / 600\n",
            "351 / 600\n",
            "352 / 600\n",
            "353 / 600\n",
            "354 / 600\n",
            "355 / 600\n",
            "356 / 600\n",
            "357 / 600\n",
            "358 / 600\n",
            "359 / 600\n",
            "360 / 600\n",
            "361 / 600\n",
            "362 / 600\n",
            "363 / 600\n",
            "364 / 600\n",
            "365 / 600\n",
            "366 / 600\n",
            "367 / 600\n",
            "368 / 600\n",
            "369 / 600\n",
            "370 / 600\n",
            "371 / 600\n",
            "372 / 600\n",
            "373 / 600\n",
            "374 / 600\n",
            "375 / 600\n",
            "376 / 600\n",
            "377 / 600\n",
            "378 / 600\n",
            "379 / 600\n",
            "380 / 600\n",
            "381 / 600\n",
            "382 / 600\n",
            "383 / 600\n",
            "384 / 600\n",
            "385 / 600\n",
            "386 / 600\n",
            "387 / 600\n",
            "388 / 600\n",
            "389 / 600\n",
            "390 / 600\n",
            "391 / 600\n",
            "392 / 600\n",
            "393 / 600\n",
            "394 / 600\n",
            "395 / 600\n",
            "396 / 600\n",
            "397 / 600\n",
            "398 / 600\n",
            "399 / 600\n",
            "400 / 600\n",
            "401 / 600\n",
            "402 / 600\n",
            "403 / 600\n",
            "404 / 600\n",
            "405 / 600\n",
            "406 / 600\n",
            "407 / 600\n",
            "408 / 600\n",
            "409 / 600\n",
            "410 / 600\n",
            "411 / 600\n",
            "412 / 600\n",
            "413 / 600\n",
            "414 / 600\n",
            "415 / 600\n",
            "416 / 600\n",
            "417 / 600\n",
            "418 / 600\n",
            "419 / 600\n",
            "420 / 600\n",
            "421 / 600\n",
            "422 / 600\n",
            "423 / 600\n",
            "424 / 600\n",
            "425 / 600\n",
            "426 / 600\n",
            "427 / 600\n",
            "428 / 600\n",
            "429 / 600\n",
            "430 / 600\n",
            "431 / 600\n",
            "432 / 600\n",
            "433 / 600\n",
            "434 / 600\n",
            "435 / 600\n",
            "436 / 600\n",
            "437 / 600\n",
            "438 / 600\n",
            "439 / 600\n",
            "440 / 600\n",
            "441 / 600\n",
            "442 / 600\n",
            "443 / 600\n",
            "444 / 600\n",
            "445 / 600\n",
            "446 / 600\n",
            "447 / 600\n",
            "448 / 600\n",
            "449 / 600\n",
            "450 / 600\n",
            "451 / 600\n",
            "452 / 600\n",
            "453 / 600\n",
            "454 / 600\n",
            "455 / 600\n",
            "456 / 600\n",
            "457 / 600\n",
            "458 / 600\n",
            "459 / 600\n",
            "460 / 600\n",
            "461 / 600\n",
            "462 / 600\n",
            "463 / 600\n",
            "464 / 600\n",
            "465 / 600\n",
            "466 / 600\n",
            "467 / 600\n",
            "468 / 600\n",
            "469 / 600\n",
            "470 / 600\n",
            "471 / 600\n",
            "472 / 600\n",
            "473 / 600\n",
            "474 / 600\n",
            "475 / 600\n",
            "476 / 600\n",
            "477 / 600\n",
            "478 / 600\n",
            "479 / 600\n",
            "480 / 600\n",
            "481 / 600\n",
            "482 / 600\n",
            "483 / 600\n",
            "484 / 600\n",
            "485 / 600\n",
            "486 / 600\n",
            "487 / 600\n",
            "488 / 600\n",
            "489 / 600\n",
            "490 / 600\n",
            "491 / 600\n",
            "492 / 600\n",
            "493 / 600\n",
            "494 / 600\n",
            "495 / 600\n",
            "496 / 600\n",
            "497 / 600\n",
            "498 / 600\n",
            "499 / 600\n",
            "500 / 600\n",
            "501 / 600\n",
            "502 / 600\n",
            "503 / 600\n",
            "504 / 600\n",
            "505 / 600\n",
            "506 / 600\n",
            "507 / 600\n",
            "508 / 600\n",
            "509 / 600\n",
            "510 / 600\n",
            "511 / 600\n",
            "512 / 600\n",
            "513 / 600\n",
            "514 / 600\n",
            "515 / 600\n",
            "516 / 600\n",
            "517 / 600\n",
            "518 / 600\n",
            "519 / 600\n",
            "520 / 600\n",
            "521 / 600\n",
            "522 / 600\n",
            "523 / 600\n",
            "524 / 600\n",
            "525 / 600\n",
            "526 / 600\n",
            "527 / 600\n",
            "528 / 600\n",
            "529 / 600\n",
            "530 / 600\n",
            "531 / 600\n",
            "532 / 600\n",
            "533 / 600\n",
            "534 / 600\n",
            "535 / 600\n",
            "536 / 600\n",
            "537 / 600\n",
            "538 / 600\n",
            "539 / 600\n",
            "540 / 600\n",
            "541 / 600\n",
            "542 / 600\n",
            "543 / 600\n",
            "544 / 600\n",
            "545 / 600\n",
            "546 / 600\n",
            "547 / 600\n",
            "548 / 600\n",
            "549 / 600\n",
            "550 / 600\n",
            "551 / 600\n",
            "552 / 600\n",
            "553 / 600\n",
            "554 / 600\n",
            "555 / 600\n",
            "556 / 600\n",
            "557 / 600\n",
            "558 / 600\n",
            "559 / 600\n",
            "560 / 600\n",
            "561 / 600\n",
            "562 / 600\n",
            "563 / 600\n",
            "564 / 600\n",
            "565 / 600\n",
            "566 / 600\n",
            "567 / 600\n",
            "568 / 600\n",
            "569 / 600\n",
            "570 / 600\n",
            "571 / 600\n",
            "572 / 600\n",
            "573 / 600\n",
            "574 / 600\n",
            "575 / 600\n",
            "576 / 600\n",
            "577 / 600\n",
            "578 / 600\n",
            "579 / 600\n",
            "580 / 600\n",
            "581 / 600\n",
            "582 / 600\n",
            "583 / 600\n",
            "584 / 600\n",
            "585 / 600\n",
            "586 / 600\n",
            "587 / 600\n",
            "588 / 600\n",
            "589 / 600\n",
            "590 / 600\n",
            "591 / 600\n",
            "592 / 600\n",
            "593 / 600\n",
            "594 / 600\n",
            "595 / 600\n",
            "596 / 600\n",
            "597 / 600\n",
            "598 / 600\n",
            "599 / 600\n",
            "600 / 600\n",
            "\n",
            "Quantum pre-processing of test images:\n",
            "1 / 150\n",
            "2 / 150\n",
            "3 / 150\n",
            "4 / 150\n",
            "5 / 150\n",
            "6 / 150\n",
            "7 / 150\n",
            "8 / 150\n",
            "9 / 150\n",
            "10 / 150\n",
            "11 / 150\n",
            "12 / 150\n",
            "13 / 150\n",
            "14 / 150\n",
            "15 / 150\n",
            "16 / 150\n",
            "17 / 150\n",
            "18 / 150\n",
            "19 / 150\n",
            "20 / 150\n",
            "21 / 150\n",
            "22 / 150\n",
            "23 / 150\n",
            "24 / 150\n",
            "25 / 150\n",
            "26 / 150\n",
            "27 / 150\n",
            "28 / 150\n",
            "29 / 150\n",
            "30 / 150\n",
            "31 / 150\n",
            "32 / 150\n",
            "33 / 150\n",
            "34 / 150\n",
            "35 / 150\n",
            "36 / 150\n",
            "37 / 150\n",
            "38 / 150\n",
            "39 / 150\n",
            "40 / 150\n",
            "41 / 150\n",
            "42 / 150\n",
            "43 / 150\n",
            "44 / 150\n",
            "45 / 150\n",
            "46 / 150\n",
            "47 / 150\n",
            "48 / 150\n",
            "49 / 150\n",
            "50 / 150\n",
            "51 / 150\n",
            "52 / 150\n",
            "53 / 150\n",
            "54 / 150\n",
            "55 / 150\n",
            "56 / 150\n",
            "57 / 150\n",
            "58 / 150\n",
            "59 / 150\n",
            "60 / 150\n",
            "61 / 150\n",
            "62 / 150\n",
            "63 / 150\n",
            "64 / 150\n",
            "65 / 150\n",
            "66 / 150\n",
            "67 / 150\n",
            "68 / 150\n",
            "69 / 150\n",
            "70 / 150\n",
            "71 / 150\n",
            "72 / 150\n",
            "73 / 150\n",
            "74 / 150\n",
            "75 / 150\n",
            "76 / 150\n",
            "77 / 150\n",
            "78 / 150\n",
            "79 / 150\n",
            "80 / 150\n",
            "81 / 150\n",
            "82 / 150\n",
            "83 / 150\n",
            "84 / 150\n",
            "85 / 150\n",
            "86 / 150\n",
            "87 / 150\n",
            "88 / 150\n",
            "89 / 150\n",
            "90 / 150\n",
            "91 / 150\n",
            "92 / 150\n",
            "93 / 150\n",
            "94 / 150\n",
            "95 / 150\n",
            "96 / 150\n",
            "97 / 150\n",
            "98 / 150\n",
            "99 / 150\n",
            "100 / 150\n",
            "101 / 150\n",
            "102 / 150\n",
            "103 / 150\n",
            "104 / 150\n",
            "105 / 150\n",
            "106 / 150\n",
            "107 / 150\n",
            "108 / 150\n",
            "109 / 150\n",
            "110 / 150\n",
            "111 / 150\n",
            "112 / 150\n",
            "113 / 150\n",
            "114 / 150\n",
            "115 / 150\n",
            "116 / 150\n",
            "117 / 150\n",
            "118 / 150\n",
            "119 / 150\n",
            "120 / 150\n",
            "121 / 150\n",
            "122 / 150\n",
            "123 / 150\n",
            "124 / 150\n",
            "125 / 150\n",
            "126 / 150\n",
            "127 / 150\n",
            "128 / 150\n",
            "129 / 150\n",
            "130 / 150\n",
            "131 / 150\n",
            "132 / 150\n",
            "133 / 150\n",
            "134 / 150\n",
            "135 / 150\n",
            "136 / 150\n",
            "137 / 150\n",
            "138 / 150\n",
            "139 / 150\n",
            "140 / 150\n",
            "141 / 150\n",
            "142 / 150\n",
            "143 / 150\n",
            "144 / 150\n",
            "145 / 150\n",
            "146 / 150\n",
            "147 / 150\n",
            "148 / 150\n",
            "149 / 150\n",
            "150 / 150\n"
          ]
        }
      ]
    },
    {
      "cell_type": "code",
      "source": [
        "n_samples = 4\n",
        "n_channels = 4\n",
        "fig, axes = plt.subplots(1 + n_channels, n_samples, figsize=(10, 10))\n",
        "for k in range(n_samples):\n",
        "    axes[0, 0].set_ylabel(\"Input\")\n",
        "    if k != 0:\n",
        "        axes[0, k].yaxis.set_visible(False)\n",
        "    axes[0, k].imshow(x_train[k, :, :, 0], cmap=\"gray\")\n",
        "    #plt.title(np.argmax(y_predict))\n",
        "\n",
        "    for c in range(n_channels):\n",
        "        axes[c + 1, 0].set_ylabel(\"Output [ch. {}]\".format(c))\n",
        "        if k != 0:\n",
        "            axes[c, k].yaxis.set_visible(False)\n",
        "        axes[c + 1, k].imshow(q_train_images[k, :, :, c], cmap=\"gray\")\n",
        "\n",
        "plt.tight_layout()\n",
        "plt.show()\n"
      ],
      "metadata": {
        "colab": {
          "base_uri": "https://localhost:8080/",
          "height": 729
        },
        "id": "jfsEgTvX8fTW",
        "outputId": "c81d9f8a-3166-4fa7-899b-704555886d11"
      },
      "execution_count": null,
      "outputs": [
        {
          "output_type": "display_data",
          "data": {
            "text/plain": [
              "<Figure size 720x720 with 20 Axes>"
            ],
            "image/png": "[encoded data removed]"
          },
          "metadata": {
            "needs_background": "light"
          }
        }
      ]
    },
    {
      "cell_type": "code",
      "source": [
        "q_train_images.shape"
      ],
      "metadata": {
        "colab": {
          "base_uri": "https://localhost:8080/"
        },
        "id": "RbWTLd5D-chS",
        "outputId": "5bab9564-0918-4833-fcc0-85c72f6354a2"
      },
      "execution_count": null,
      "outputs": [
        {
          "output_type": "execute_result",
          "data": {
            "text/plain": [
              "(600, 14, 14, 4)"
            ]
          },
          "metadata": {},
          "execution_count": 15
        }
      ]
    },
    {
      "cell_type": "code",
      "source": [
        "from keras import regularizers\n",
        "from keras import backend as K\n",
        "\n",
        "def MyModel():\n",
        "    \"\"\"Initializes and returns a custom Keras model\n",
        "    which is ready to be trained.\"\"\"\n",
        "    model = keras.models.Sequential([\n",
        "        keras.layers.Conv2D(32,2,input_shape=(14,14,4)),\n",
        "        keras.layers.MaxPooling2D(2,2),\n",
        "        keras.layers.Flatten(),\n",
        "        #keras.layers.Dense(784, activation =\"relu\", kernel_regularizer=regularizers.l2(0.0001), bias_regularizer=regularizers.L2(0.0005),),\n",
        "        #keras.layers.Dense(500, activation =\"relu\", kernel_regularizer=regularizers.l2(0.00005)),\n",
        "        keras.layers.Dense(250, activation=\"relu\", kernel_regularizer=regularizers.l2(0.000001), bias_regularizer=regularizers.L2(0.00005)),\n",
        "        keras.layers.Dropout(0.25),\n",
        "        keras.layers.Dense(120, activation=\"relu\", kernel_regularizer=regularizers.l2(0.000001), bias_regularizer=regularizers.L2(0.00005)),\n",
        "        keras.layers.Dropout(0.25),\n",
        "        #keras.layers.Dense(64, activation=\"relu\", kernel_regularizer=regularizers.l2(0.00005)),\n",
        "        keras.layers.Dense(26, activation=\"softmax\")\n",
        "\n",
        "    ])\n",
        "\n",
        "    model.compile(\n",
        "        optimizer='adam',\n",
        "        loss=\"sparse_categorical_crossentropy\",\n",
        "        metrics=[\"accuracy\"],\n",
        "    )\n",
        "    K.set_value(model.optimizer.learning_rate, 0.0005)\n",
        "    return model"
      ],
      "metadata": {
        "id": "DNfoNPlS8mg0"
      },
      "execution_count": null,
      "outputs": []
    },
    {
      "cell_type": "code",
      "source": [
        "from keras.callbacks import EarlyStopping, ReduceLROnPlateau,ModelCheckpoint\n",
        "\n",
        "MCP = ModelCheckpoint('Best_points.h5',verbose=1,save_best_only=True,monitor='val_accuracy',mode='max')\n",
        "ES = EarlyStopping(monitor='val_accuracy',min_delta=0,verbose=0,restore_best_weights = True,patience=8,mode='max')\n",
        "RLP = ReduceLROnPlateau(monitor='val_loss',patience=8,factor=0.2,min_lr=0.001)"
      ],
      "metadata": {
        "id": "bf9ujZzE8yBp"
      },
      "execution_count": null,
      "outputs": []
    },
    {
      "cell_type": "code",
      "source": [
        "\n",
        "q_model = MyModel()\n",
        "\n",
        "q_history = q_model.fit(\n",
        "    q_train_images,\n",
        "    y_train,\n",
        "    validation_data=(q_test_images, y_val),\n",
        "    epochs=60,\n",
        "    verbose=2,\n",
        "    callbacks=[MCP,ES,RLP]\n",
        ")\n",
        "\n",
        "q_model.summary()"
      ],
      "metadata": {
        "colab": {
          "base_uri": "https://localhost:8080/"
        },
        "id": "Sucb7irK82Yt",
        "outputId": "345a0a63-0824-4f7b-fecd-d8feb4ffbea9"
      },
      "execution_count": null,
      "outputs": [
        {
          "output_type": "stream",
          "name": "stdout",
          "text": [
            "Epoch 1/60\n",
            "\n",
            "Epoch 1: val_accuracy improved from -inf to 0.23333, saving model to Best_points.h5\n",
            "19/19 - 1s - loss: 3.2498 - accuracy: 0.0567 - val_loss: 3.1774 - val_accuracy: 0.2333 - lr: 5.0000e-04 - 1s/epoch - 53ms/step\n",
            "Epoch 2/60\n",
            "\n",
            "Epoch 2: val_accuracy improved from 0.23333 to 0.29333, saving model to Best_points.h5\n",
            "19/19 - 0s - loss: 3.1373 - accuracy: 0.1350 - val_loss: 3.0569 - val_accuracy: 0.2933 - lr: 5.0000e-04 - 264ms/epoch - 14ms/step\n",
            "Epoch 3/60\n",
            "\n",
            "Epoch 3: val_accuracy improved from 0.29333 to 0.32667, saving model to Best_points.h5\n",
            "19/19 - 0s - loss: 2.9836 - accuracy: 0.2300 - val_loss: 2.8643 - val_accuracy: 0.3267 - lr: 5.0000e-04 - 246ms/epoch - 13ms/step\n",
            "Epoch 4/60\n",
            "\n",
            "Epoch 4: val_accuracy improved from 0.32667 to 0.40000, saving model to Best_points.h5\n",
            "19/19 - 0s - loss: 2.7621 - accuracy: 0.2717 - val_loss: 2.5988 - val_accuracy: 0.4000 - lr: 5.0000e-04 - 270ms/epoch - 14ms/step\n",
            "Epoch 5/60\n",
            "\n",
            "Epoch 5: val_accuracy improved from 0.40000 to 0.47333, saving model to Best_points.h5\n",
            "19/19 - 0s - loss: 2.4552 - accuracy: 0.3383 - val_loss: 2.2883 - val_accuracy: 0.4733 - lr: 5.0000e-04 - 271ms/epoch - 14ms/step\n",
            "Epoch 6/60\n",
            "\n",
            "Epoch 6: val_accuracy improved from 0.47333 to 0.50000, saving model to Best_points.h5\n",
            "19/19 - 0s - loss: 2.1440 - accuracy: 0.4217 - val_loss: 2.0160 - val_accuracy: 0.5000 - lr: 5.0000e-04 - 262ms/epoch - 14ms/step\n",
            "Epoch 7/60\n",
            "\n",
            "Epoch 7: val_accuracy improved from 0.50000 to 0.52000, saving model to Best_points.h5\n",
            "19/19 - 0s - loss: 1.8985 - accuracy: 0.4617 - val_loss: 1.8179 - val_accuracy: 0.5200 - lr: 5.0000e-04 - 249ms/epoch - 13ms/step\n",
            "Epoch 8/60\n",
            "\n",
            "Epoch 8: val_accuracy did not improve from 0.52000\n",
            "19/19 - 0s - loss: 1.6870 - accuracy: 0.5250 - val_loss: 1.6603 - val_accuracy: 0.5000 - lr: 5.0000e-04 - 214ms/epoch - 11ms/step\n",
            "Epoch 9/60\n",
            "\n",
            "Epoch 9: val_accuracy improved from 0.52000 to 0.56667, saving model to Best_points.h5\n",
            "19/19 - 0s - loss: 1.5277 - accuracy: 0.5600 - val_loss: 1.5316 - val_accuracy: 0.5667 - lr: 5.0000e-04 - 263ms/epoch - 14ms/step\n",
            "Epoch 10/60\n",
            "\n",
            "Epoch 10: val_accuracy did not improve from 0.56667\n",
            "19/19 - 0s - loss: 1.3585 - accuracy: 0.6183 - val_loss: 1.4502 - val_accuracy: 0.5533 - lr: 5.0000e-04 - 227ms/epoch - 12ms/step\n",
            "Epoch 11/60\n",
            "\n",
            "Epoch 11: val_accuracy improved from 0.56667 to 0.58667, saving model to Best_points.h5\n",
            "19/19 - 0s - loss: 1.2335 - accuracy: 0.6400 - val_loss: 1.3823 - val_accuracy: 0.5867 - lr: 5.0000e-04 - 253ms/epoch - 13ms/step\n",
            "Epoch 12/60\n",
            "\n",
            "Epoch 12: val_accuracy improved from 0.58667 to 0.60667, saving model to Best_points.h5\n",
            "19/19 - 0s - loss: 1.0933 - accuracy: 0.6917 - val_loss: 1.3487 - val_accuracy: 0.6067 - lr: 5.0000e-04 - 250ms/epoch - 13ms/step\n",
            "Epoch 13/60\n",
            "\n",
            "Epoch 13: val_accuracy did not improve from 0.60667\n",
            "19/19 - 0s - loss: 1.0507 - accuracy: 0.7033 - val_loss: 1.2981 - val_accuracy: 0.6000 - lr: 5.0000e-04 - 243ms/epoch - 13ms/step\n",
            "Epoch 14/60\n",
            "\n",
            "Epoch 14: val_accuracy improved from 0.60667 to 0.64000, saving model to Best_points.h5\n",
            "19/19 - 0s - loss: 0.9294 - accuracy: 0.7350 - val_loss: 1.2318 - val_accuracy: 0.6400 - lr: 5.0000e-04 - 253ms/epoch - 13ms/step\n",
            "Epoch 15/60\n",
            "\n",
            "Epoch 15: val_accuracy improved from 0.64000 to 0.65333, saving model to Best_points.h5\n",
            "19/19 - 0s - loss: 0.8623 - accuracy: 0.7417 - val_loss: 1.2009 - val_accuracy: 0.6533 - lr: 5.0000e-04 - 246ms/epoch - 13ms/step\n",
            "Epoch 16/60\n",
            "\n",
            "Epoch 16: val_accuracy did not improve from 0.65333\n",
            "19/19 - 0s - loss: 0.8331 - accuracy: 0.7600 - val_loss: 1.1800 - val_accuracy: 0.6467 - lr: 5.0000e-04 - 202ms/epoch - 11ms/step\n",
            "Epoch 17/60\n",
            "\n",
            "Epoch 17: val_accuracy did not improve from 0.65333\n",
            "19/19 - 0s - loss: 0.7354 - accuracy: 0.7750 - val_loss: 1.1625 - val_accuracy: 0.6467 - lr: 5.0000e-04 - 226ms/epoch - 12ms/step\n",
            "Epoch 18/60\n",
            "\n",
            "Epoch 18: val_accuracy improved from 0.65333 to 0.68667, saving model to Best_points.h5\n",
            "19/19 - 0s - loss: 0.6459 - accuracy: 0.8133 - val_loss: 1.1491 - val_accuracy: 0.6867 - lr: 5.0000e-04 - 241ms/epoch - 13ms/step\n",
            "Epoch 19/60\n",
            "\n",
            "Epoch 19: val_accuracy did not improve from 0.68667\n",
            "19/19 - 0s - loss: 0.6070 - accuracy: 0.8350 - val_loss: 1.0987 - val_accuracy: 0.6867 - lr: 5.0000e-04 - 211ms/epoch - 11ms/step\n",
            "Epoch 20/60\n",
            "\n",
            "Epoch 20: val_accuracy did not improve from 0.68667\n",
            "19/19 - 0s - loss: 0.5471 - accuracy: 0.8383 - val_loss: 1.1056 - val_accuracy: 0.6400 - lr: 5.0000e-04 - 203ms/epoch - 11ms/step\n",
            "Epoch 21/60\n",
            "\n",
            "Epoch 21: val_accuracy did not improve from 0.68667\n",
            "19/19 - 0s - loss: 0.5047 - accuracy: 0.8650 - val_loss: 1.0932 - val_accuracy: 0.6600 - lr: 5.0000e-04 - 208ms/epoch - 11ms/step\n",
            "Epoch 22/60\n",
            "\n",
            "Epoch 22: val_accuracy did not improve from 0.68667\n",
            "19/19 - 0s - loss: 0.4238 - accuracy: 0.8983 - val_loss: 1.0938 - val_accuracy: 0.6733 - lr: 5.0000e-04 - 224ms/epoch - 12ms/step\n",
            "Epoch 23/60\n",
            "\n",
            "Epoch 23: val_accuracy did not improve from 0.68667\n",
            "19/19 - 0s - loss: 0.4116 - accuracy: 0.8850 - val_loss: 1.0706 - val_accuracy: 0.6733 - lr: 5.0000e-04 - 219ms/epoch - 12ms/step\n",
            "Epoch 24/60\n",
            "\n",
            "Epoch 24: val_accuracy did not improve from 0.68667\n",
            "19/19 - 0s - loss: 0.3954 - accuracy: 0.8917 - val_loss: 1.0601 - val_accuracy: 0.6667 - lr: 5.0000e-04 - 229ms/epoch - 12ms/step\n",
            "Epoch 25/60\n",
            "\n",
            "Epoch 25: val_accuracy did not improve from 0.68667\n",
            "19/19 - 0s - loss: 0.3347 - accuracy: 0.9050 - val_loss: 1.0680 - val_accuracy: 0.6800 - lr: 5.0000e-04 - 223ms/epoch - 12ms/step\n",
            "Epoch 26/60\n",
            "\n",
            "Epoch 26: val_accuracy improved from 0.68667 to 0.70000, saving model to Best_points.h5\n",
            "19/19 - 0s - loss: 0.3196 - accuracy: 0.9183 - val_loss: 1.1077 - val_accuracy: 0.7000 - lr: 5.0000e-04 - 303ms/epoch - 16ms/step\n",
            "Epoch 27/60\n",
            "\n",
            "Epoch 27: val_accuracy did not improve from 0.70000\n",
            "19/19 - 0s - loss: 0.3066 - accuracy: 0.9300 - val_loss: 1.0773 - val_accuracy: 0.7000 - lr: 5.0000e-04 - 211ms/epoch - 11ms/step\n",
            "Epoch 28/60\n",
            "\n",
            "Epoch 28: val_accuracy did not improve from 0.70000\n",
            "19/19 - 0s - loss: 0.2751 - accuracy: 0.9383 - val_loss: 1.0881 - val_accuracy: 0.6733 - lr: 5.0000e-04 - 202ms/epoch - 11ms/step\n",
            "Epoch 29/60\n",
            "\n",
            "Epoch 29: val_accuracy did not improve from 0.70000\n",
            "19/19 - 0s - loss: 0.2520 - accuracy: 0.9433 - val_loss: 1.0645 - val_accuracy: 0.6867 - lr: 5.0000e-04 - 205ms/epoch - 11ms/step\n",
            "Epoch 30/60\n",
            "\n",
            "Epoch 30: val_accuracy did not improve from 0.70000\n",
            "19/19 - 0s - loss: 0.2330 - accuracy: 0.9467 - val_loss: 1.0703 - val_accuracy: 0.6667 - lr: 5.0000e-04 - 199ms/epoch - 10ms/step\n",
            "Epoch 31/60\n",
            "\n",
            "Epoch 31: val_accuracy did not improve from 0.70000\n",
            "19/19 - 0s - loss: 0.2131 - accuracy: 0.9450 - val_loss: 1.0872 - val_accuracy: 0.6800 - lr: 5.0000e-04 - 217ms/epoch - 11ms/step\n",
            "Epoch 32/60\n",
            "\n",
            "Epoch 32: val_accuracy improved from 0.70000 to 0.70667, saving model to Best_points.h5\n",
            "19/19 - 0s - loss: 0.1876 - accuracy: 0.9617 - val_loss: 1.0730 - val_accuracy: 0.7067 - lr: 5.0000e-04 - 241ms/epoch - 13ms/step\n",
            "Epoch 33/60\n",
            "\n",
            "Epoch 33: val_accuracy did not improve from 0.70667\n",
            "19/19 - 0s - loss: 0.1798 - accuracy: 0.9550 - val_loss: 1.0710 - val_accuracy: 0.7067 - lr: 5.0000e-04 - 206ms/epoch - 11ms/step\n",
            "Epoch 34/60\n",
            "\n",
            "Epoch 34: val_accuracy did not improve from 0.70667\n",
            "19/19 - 0s - loss: 0.1753 - accuracy: 0.9683 - val_loss: 1.0758 - val_accuracy: 0.7067 - lr: 5.0000e-04 - 213ms/epoch - 11ms/step\n",
            "Epoch 35/60\n",
            "\n",
            "Epoch 35: val_accuracy did not improve from 0.70667\n",
            "19/19 - 0s - loss: 0.1537 - accuracy: 0.9667 - val_loss: 1.0888 - val_accuracy: 0.6867 - lr: 5.0000e-04 - 208ms/epoch - 11ms/step\n",
            "Epoch 36/60\n",
            "\n",
            "Epoch 36: val_accuracy did not improve from 0.70667\n",
            "19/19 - 0s - loss: 0.1486 - accuracy: 0.9717 - val_loss: 1.0796 - val_accuracy: 0.6800 - lr: 5.0000e-04 - 218ms/epoch - 11ms/step\n",
            "Epoch 37/60\n",
            "\n",
            "Epoch 37: val_accuracy did not improve from 0.70667\n",
            "19/19 - 0s - loss: 0.1369 - accuracy: 0.9650 - val_loss: 1.1202 - val_accuracy: 0.6933 - lr: 5.0000e-04 - 234ms/epoch - 12ms/step\n",
            "Epoch 38/60\n",
            "\n",
            "Epoch 38: val_accuracy did not improve from 0.70667\n",
            "19/19 - 0s - loss: 0.1244 - accuracy: 0.9700 - val_loss: 1.1220 - val_accuracy: 0.7000 - lr: 5.0000e-04 - 226ms/epoch - 12ms/step\n",
            "Epoch 39/60\n",
            "\n",
            "Epoch 39: val_accuracy did not improve from 0.70667\n",
            "19/19 - 0s - loss: 0.1068 - accuracy: 0.9833 - val_loss: 1.1012 - val_accuracy: 0.6867 - lr: 5.0000e-04 - 222ms/epoch - 12ms/step\n",
            "Epoch 40/60\n",
            "\n",
            "Epoch 40: val_accuracy did not improve from 0.70667\n",
            "19/19 - 0s - loss: 0.1004 - accuracy: 0.9800 - val_loss: 1.1396 - val_accuracy: 0.6733 - lr: 5.0000e-04 - 226ms/epoch - 12ms/step\n",
            "Model: \"sequential_3\"\n",
            "_________________________________________________________________\n",
            " Layer (type)                Output Shape              Param #   \n",
            "=================================================================\n",
            " conv2d_3 (Conv2D)           (None, 13, 13, 32)        544       \n",
            "                                                                 \n",
            " max_pooling2d_3 (MaxPooling  (None, 6, 6, 32)         0         \n",
            " 2D)                                                             \n",
            "                                                                 \n",
            " flatten_3 (Flatten)         (None, 1152)              0         \n",
            "                                                                 \n",
            " dense_9 (Dense)             (None, 250)               288250    \n",
            "                                                                 \n",
            " dropout_6 (Dropout)         (None, 250)               0         \n",
            "                                                                 \n",
            " dense_10 (Dense)            (None, 120)               30120     \n",
            "                                                                 \n",
            " dropout_7 (Dropout)         (None, 120)               0         \n",
            "                                                                 \n",
            " dense_11 (Dense)            (None, 26)                3146      \n",
            "                                                                 \n",
            "=================================================================\n",
            "Total params: 322,060\n",
            "Trainable params: 322,060\n",
            "Non-trainable params: 0\n",
            "_________________________________________________________________\n"
          ]
        }
      ]
    },
    {
      "cell_type": "code",
      "source": [
        "q_model.save(SAVE_PATH + \"q_model\")"
      ],
      "metadata": {
        "id": "kmkbRCtO9QWY"
      },
      "execution_count": null,
      "outputs": []
    },
    {
      "cell_type": "code",
      "source": [
        "import matplotlib.pyplot as plt \n",
        "import warnings\n",
        "fig,axes = plt.subplots(3,5,figsize=(10,8))\n",
        "for i,ax in enumerate(axes.flat):\n",
        "    ax.imshow(q_test_images[i], cmap=\"gray\")\n"
      ],
      "metadata": {
        "colab": {
          "base_uri": "https://localhost:8080/",
          "height": 712
        },
        "id": "7-WQQjbko8-D",
        "outputId": "a89b6b6a-5f97-4c2d-e782-300c084c9f7e"
      },
      "execution_count": null,
      "outputs": [
        {
          "output_type": "stream",
          "name": "stderr",
          "text": [
            "WARNING:matplotlib.image:Clipping input data to the valid range for imshow with RGB data ([0..1] for floats or [0..255] for integers).\n",
            "WARNING:matplotlib.image:Clipping input data to the valid range for imshow with RGB data ([0..1] for floats or [0..255] for integers).\n",
            "WARNING:matplotlib.image:Clipping input data to the valid range for imshow with RGB data ([0..1] for floats or [0..255] for integers).\n",
            "WARNING:matplotlib.image:Clipping input data to the valid range for imshow with RGB data ([0..1] for floats or [0..255] for integers).\n",
            "WARNING:matplotlib.image:Clipping input data to the valid range for imshow with RGB data ([0..1] for floats or [0..255] for integers).\n",
            "WARNING:matplotlib.image:Clipping input data to the valid range for imshow with RGB data ([0..1] for floats or [0..255] for integers).\n",
            "WARNING:matplotlib.image:Clipping input data to the valid range for imshow with RGB data ([0..1] for floats or [0..255] for integers).\n",
            "WARNING:matplotlib.image:Clipping input data to the valid range for imshow with RGB data ([0..1] for floats or [0..255] for integers).\n",
            "WARNING:matplotlib.image:Clipping input data to the valid range for imshow with RGB data ([0..1] for floats or [0..255] for integers).\n",
            "WARNING:matplotlib.image:Clipping input data to the valid range for imshow with RGB data ([0..1] for floats or [0..255] for integers).\n",
            "WARNING:matplotlib.image:Clipping input data to the valid range for imshow with RGB data ([0..1] for floats or [0..255] for integers).\n",
            "WARNING:matplotlib.image:Clipping input data to the valid range for imshow with RGB data ([0..1] for floats or [0..255] for integers).\n",
            "WARNING:matplotlib.image:Clipping input data to the valid range for imshow with RGB data ([0..1] for floats or [0..255] for integers).\n",
            "WARNING:matplotlib.image:Clipping input data to the valid range for imshow with RGB data ([0..1] for floats or [0..255] for integers).\n",
            "WARNING:matplotlib.image:Clipping input data to the valid range for imshow with RGB data ([0..1] for floats or [0..255] for integers).\n"
          ]
        },
        {
          "output_type": "display_data",
          "data": {
            "text/plain": [
              "<Figure size 720x576 with 15 Axes>"
            ],
            "image/png": "[encoded data removed]"
          },
          "metadata": {
            "needs_background": "light"
          }
        }
      ]
    },
    {
      "cell_type": "code",
      "source": [
        "axes[0, 1].imshow(x_train[1, :, :, 0], cmap=\"gray\")\n",
        "plt.show()"
      ],
      "metadata": {
        "id": "UeG3SrOJoYLA"
      },
      "execution_count": null,
      "outputs": []
    },
    {
      "cell_type": "code",
      "source": [
        "labels_dict ={1:'A',2:'B',3:'C',4:'D',5:'E',6:'F',7:'G',8:'H',9:'I',10:'J',11:'K',12:'L',13:'M',14:'N',15:'O',16:'P',17:'Q',18:'R',19:'S',20:'T',21:'U',22:'V',23:'W',24:'X',25:'Y',26:'Z'}"
      ],
      "metadata": {
        "id": "kuYVcANjIR0E"
      },
      "execution_count": null,
      "outputs": []
    },
    {
      "cell_type": "code",
      "source": [
        "def predictShow(i):\n",
        "  prediction=q_model.predict(q_test_images[i:i+1])\n",
        "  y_predict=(prediction>0.5)\n",
        "  plt.imshow(q_train_images[i],cmap=\"gray\")\n",
        "  plt.title(labels_dict[np.argmax(y_predict)])\n",
        "  plt.show()"
      ],
      "metadata": {
        "id": "YA1fOs4bWExI"
      },
      "execution_count": null,
      "outputs": []
    },
    {
      "cell_type": "code",
      "source": [
        "predictShow(34)"
      ],
      "metadata": {
        "colab": {
          "base_uri": "https://localhost:8080/",
          "height": 298
        },
        "id": "FrMLhiRqWYT-",
        "outputId": "3f5a1035-b30c-49d0-8fce-e6955160e525"
      },
      "execution_count": null,
      "outputs": [
        {
          "output_type": "stream",
          "name": "stderr",
          "text": [
            "WARNING:matplotlib.image:Clipping input data to the valid range for imshow with RGB data ([0..1] for floats or [0..255] for integers).\n"
          ]
        },
        {
          "output_type": "display_data",
          "data": {
            "text/plain": [
              "<Figure size 432x288 with 1 Axes>"
            ],
            "image/png": "[encoded data removed]"
          },
          "metadata": {
            "needs_background": "light"
          }
        }
      ]
    },
    {
      "cell_type": "code",
      "source": [
        "predictShow(10)"
      ],
      "metadata": {
        "colab": {
          "base_uri": "https://localhost:8080/",
          "height": 298
        },
        "id": "BLtozD6gWgrE",
        "outputId": "2cca670f-103c-4451-b3ab-83e21560084f"
      },
      "execution_count": null,
      "outputs": [
        {
          "output_type": "stream",
          "name": "stderr",
          "text": [
            "WARNING:matplotlib.image:Clipping input data to the valid range for imshow with RGB data ([0..1] for floats or [0..255] for integers).\n"
          ]
        },
        {
          "output_type": "display_data",
          "data": {
            "text/plain": [
              "<Figure size 432x288 with 1 Axes>"
            ],
            "image/png": "[encoded data removed]"
          },
          "metadata": {
            "needs_background": "light"
          }
        }
      ]
    },
    {
      "cell_type": "code",
      "source": [
        "predictShow(110)"
      ],
      "metadata": {
        "colab": {
          "base_uri": "https://localhost:8080/",
          "height": 535
        },
        "id": "FtvVe1aNWmN6",
        "outputId": "eea50cc9-04ef-47a9-8893-a5ddef09b22f"
      },
      "execution_count": null,
      "outputs": [
        {
          "output_type": "stream",
          "name": "stderr",
          "text": [
            "WARNING:matplotlib.image:Clipping input data to the valid range for imshow with RGB data ([0..1] for floats or [0..255] for integers).\n"
          ]
        },
        {
          "output_type": "error",
          "ename": "KeyError",
          "evalue": "ignored",
          "traceback": [
            "\u001b[0;31m---------------------------------------------------------------------------\u001b[0m",
            "\u001b[0;31mKeyError\u001b[0m                                  Traceback (most recent call last)",
            "\u001b[0;32m<ipython-input-26-8bb9d09d6ad2>\u001b[0m in \u001b[0;36m<module>\u001b[0;34m()\u001b[0m\n\u001b[0;32m----> 1\u001b[0;31m \u001b[0mpredictShow\u001b[0m\u001b[0;34m(\u001b[0m\u001b[0;36m110\u001b[0m\u001b[0;34m)\u001b[0m\u001b[0;34m\u001b[0m\u001b[0;34m\u001b[0m\u001b[0m\n\u001b[0m",
            "\u001b[0;32m<ipython-input-23-717d502416f7>\u001b[0m in \u001b[0;36mpredictShow\u001b[0;34m(i)\u001b[0m\n\u001b[1;32m      3\u001b[0m   \u001b[0my_predict\u001b[0m\u001b[0;34m=\u001b[0m\u001b[0;34m(\u001b[0m\u001b[0mprediction\u001b[0m\u001b[0;34m>\u001b[0m\u001b[0;36m0.5\u001b[0m\u001b[0;34m)\u001b[0m\u001b[0;34m\u001b[0m\u001b[0;34m\u001b[0m\u001b[0m\n\u001b[1;32m      4\u001b[0m   \u001b[0mplt\u001b[0m\u001b[0;34m.\u001b[0m\u001b[0mimshow\u001b[0m\u001b[0;34m(\u001b[0m\u001b[0mq_train_images\u001b[0m\u001b[0;34m[\u001b[0m\u001b[0mi\u001b[0m\u001b[0;34m]\u001b[0m\u001b[0;34m,\u001b[0m\u001b[0mcmap\u001b[0m\u001b[0;34m=\u001b[0m\u001b[0;34m\"gray\"\u001b[0m\u001b[0;34m)\u001b[0m\u001b[0;34m\u001b[0m\u001b[0;34m\u001b[0m\u001b[0m\n\u001b[0;32m----> 5\u001b[0;31m   \u001b[0mplt\u001b[0m\u001b[0;34m.\u001b[0m\u001b[0mtitle\u001b[0m\u001b[0;34m(\u001b[0m\u001b[0mlabels_dict\u001b[0m\u001b[0;34m[\u001b[0m\u001b[0mnp\u001b[0m\u001b[0;34m.\u001b[0m\u001b[0margmax\u001b[0m\u001b[0;34m(\u001b[0m\u001b[0my_predict\u001b[0m\u001b[0;34m)\u001b[0m\u001b[0;34m]\u001b[0m\u001b[0;34m)\u001b[0m\u001b[0;34m\u001b[0m\u001b[0;34m\u001b[0m\u001b[0m\n\u001b[0m\u001b[1;32m      6\u001b[0m   \u001b[0mplt\u001b[0m\u001b[0;34m.\u001b[0m\u001b[0mshow\u001b[0m\u001b[0;34m(\u001b[0m\u001b[0;34m)\u001b[0m\u001b[0;34m\u001b[0m\u001b[0;34m\u001b[0m\u001b[0m\n",
            "\u001b[0;31mKeyError\u001b[0m: 0"
          ]
        },
        {
          "output_type": "display_data",
          "data": {
            "text/plain": [
              "<Figure size 432x288 with 1 Axes>"
            ],
            "image/png": "[encoded data removed]"
          },
          "metadata": {
            "needs_background": "light"
          }
        }
      ]
    },
    {
      "cell_type": "code",
      "source": [
        "def plotgraph(epochs, acc, val_acc, type):\n",
        "    # Plot training & validation accuracy values\n",
        "    plt.plot(epochs, acc, 'b')\n",
        "    plt.plot(epochs, val_acc, 'r')\n",
        "    plt.title('Model ' + type)\n",
        "    plt.ylabel(type)\n",
        "    plt.xlabel('Epoch')\n",
        "    plt.legend(['Train', 'Val'], loc='upper left')\n",
        "    plt.show()"
      ],
      "metadata": {
        "id": "JzjkG5Su87Ad"
      },
      "execution_count": null,
      "outputs": []
    },
    {
      "cell_type": "code",
      "source": [
        "acc = q_history.history['accuracy']\n",
        "val_acc = q_history.history['val_accuracy']\n",
        "loss = q_history.history['loss']\n",
        "val_loss = q_history.history['val_loss']\n",
        "epochs = range(1,len(acc)+1)"
      ],
      "metadata": {
        "id": "v7OXgt359FJQ"
      },
      "execution_count": null,
      "outputs": []
    },
    {
      "cell_type": "code",
      "source": [
        "plotgraph(epochs, loss, val_loss, 'Loss')"
      ],
      "metadata": {
        "colab": {
          "base_uri": "https://localhost:8080/",
          "height": 295
        },
        "id": "DOrlhcxl9WZa",
        "outputId": "97d35c33-5cbe-4521-b16f-f9ad8a72b50e"
      },
      "execution_count": null,
      "outputs": [
        {
          "output_type": "display_data",
          "data": {
            "text/plain": [
              "<Figure size 432x288 with 1 Axes>"
            ],
            "image/png": "[encoded data removed]"
          },
          "metadata": {
            "needs_background": "light"
          }
        }
      ]
    },
    {
      "cell_type": "code",
      "source": [
        "plotgraph(epochs, acc, val_acc, 'Accuracy')"
      ],
      "metadata": {
        "colab": {
          "base_uri": "https://localhost:8080/",
          "height": 295
        },
        "id": "nuXnoDp9-oZq",
        "outputId": "f39def04-9ae1-4247-deb2-943dcf4cca14"
      },
      "execution_count": null,
      "outputs": [
        {
          "output_type": "display_data",
          "data": {
            "text/plain": [
              "<Figure size 432x288 with 1 Axes>"
            ],
            "image/png": "[encoded data removed]"
          },
          "metadata": {
            "needs_background": "light"
          }
        }
      ]
    },
    {
      "cell_type": "code",
      "source": [
        "from keras import regularizers\n",
        "from keras import backend as K\n",
        "\n",
        "def MyModel_classical():\n",
        "    \"\"\"Initializes and returns a custom Keras model\n",
        "    which is ready to be trained.\"\"\"\n",
        "    model = keras.models.Sequential([\n",
        "        keras.layers.Conv2D(32,2,input_shape=(28,28,1)),\n",
        "        keras.layers.MaxPooling2D(2,2),\n",
        "        keras.layers.Flatten(),\n",
        "        #keras.layers.Dense(784, activation =\"relu\", kernel_regularizer=regularizers.l2(0.0001), bias_regularizer=regularizers.L2(0.0005),),\n",
        "        #keras.layers.Dense(500, activation =\"relu\", kernel_regularizer=regularizers.l2(0.0001)),\n",
        "        keras.layers.Dense(250, activation=\"relu\", kernel_regularizer=regularizers.l2(0.0001), bias_regularizer=regularizers.L2(0.00005)),\n",
        "        keras.layers.Dropout(0.25),\n",
        "        keras.layers.Dense(120, activation=\"relu\", kernel_regularizer=regularizers.l2(0.0001), bias_regularizer=regularizers.L2(0.00005)),\n",
        "        keras.layers.Dropout(0.25),\n",
        "        #keras.layers.Dense(64, activation=\"relu\", kernel_regularizer=regularizers.l2(0.0001)),\n",
        "        keras.layers.Dense(26, activation=\"softmax\")\n",
        "    ])\n",
        "\n",
        "    model.compile(\n",
        "        optimizer='adam',\n",
        "        loss=\"sparse_categorical_crossentropy\",\n",
        "        metrics=[\"accuracy\"],\n",
        "    )\n",
        "    K.set_value(model.optimizer.learning_rate, 0.0001)\n",
        "    return model"
      ],
      "metadata": {
        "id": "ME3RayCw-wUf"
      },
      "execution_count": null,
      "outputs": []
    },
    {
      "cell_type": "code",
      "source": [
        "c_model = MyModel_classical()\n",
        "\n",
        "c_history = c_model.fit(\n",
        "    x_train,\n",
        "    y_train,\n",
        "    validation_data=(x_val, y_val),\n",
        "    epochs=40,\n",
        "    verbose=2,\n",
        "    #callbacks=[MCP,ES,RLP]\n",
        ")\n",
        "\n",
        "c_model.summary()"
      ],
      "metadata": {
        "colab": {
          "base_uri": "https://localhost:8080/"
        },
        "id": "hZhNVZPfEOtC",
        "outputId": "1cd205b1-371f-4e78-e61c-c03f7bf7b822"
      },
      "execution_count": null,
      "outputs": [
        {
          "output_type": "stream",
          "name": "stdout",
          "text": [
            "Epoch 1/40\n",
            "19/19 - 2s - loss: 3.3039 - accuracy: 0.0633 - val_loss: 3.2548 - val_accuracy: 0.0800 - 2s/epoch - 130ms/step\n",
            "Epoch 2/40\n",
            "19/19 - 1s - loss: 3.2098 - accuracy: 0.1267 - val_loss: 3.1659 - val_accuracy: 0.1400 - 623ms/epoch - 33ms/step\n",
            "Epoch 3/40\n",
            "19/19 - 1s - loss: 3.0918 - accuracy: 0.1767 - val_loss: 3.0554 - val_accuracy: 0.2000 - 630ms/epoch - 33ms/step\n",
            "Epoch 4/40\n",
            "19/19 - 1s - loss: 2.9729 - accuracy: 0.2333 - val_loss: 2.9340 - val_accuracy: 0.2400 - 626ms/epoch - 33ms/step\n",
            "Epoch 5/40\n",
            "19/19 - 1s - loss: 2.8169 - accuracy: 0.2850 - val_loss: 2.8026 - val_accuracy: 0.2733 - 662ms/epoch - 35ms/step\n",
            "Epoch 6/40\n",
            "19/19 - 1s - loss: 2.6852 - accuracy: 0.3217 - val_loss: 2.6717 - val_accuracy: 0.3133 - 643ms/epoch - 34ms/step\n",
            "Epoch 7/40\n",
            "19/19 - 1s - loss: 2.5284 - accuracy: 0.3833 - val_loss: 2.5427 - val_accuracy: 0.3800 - 632ms/epoch - 33ms/step\n",
            "Epoch 8/40\n",
            "19/19 - 1s - loss: 2.3828 - accuracy: 0.4250 - val_loss: 2.4188 - val_accuracy: 0.3667 - 647ms/epoch - 34ms/step\n",
            "Epoch 9/40\n",
            "19/19 - 1s - loss: 2.2419 - accuracy: 0.4600 - val_loss: 2.3097 - val_accuracy: 0.4067 - 638ms/epoch - 34ms/step\n",
            "Epoch 10/40\n",
            "19/19 - 1s - loss: 2.1405 - accuracy: 0.4383 - val_loss: 2.2057 - val_accuracy: 0.4400 - 638ms/epoch - 34ms/step\n",
            "Epoch 11/40\n",
            "19/19 - 1s - loss: 2.0093 - accuracy: 0.5183 - val_loss: 2.1006 - val_accuracy: 0.4400 - 656ms/epoch - 35ms/step\n",
            "Epoch 12/40\n",
            "19/19 - 1s - loss: 1.9723 - accuracy: 0.4750 - val_loss: 2.0266 - val_accuracy: 0.4533 - 634ms/epoch - 33ms/step\n",
            "Epoch 13/40\n",
            "19/19 - 1s - loss: 1.8286 - accuracy: 0.5233 - val_loss: 1.9653 - val_accuracy: 0.4867 - 621ms/epoch - 33ms/step\n",
            "Epoch 14/40\n",
            "19/19 - 1s - loss: 1.7567 - accuracy: 0.5600 - val_loss: 1.8973 - val_accuracy: 0.4800 - 631ms/epoch - 33ms/step\n",
            "Epoch 15/40\n",
            "19/19 - 1s - loss: 1.6462 - accuracy: 0.5767 - val_loss: 1.8472 - val_accuracy: 0.4800 - 611ms/epoch - 32ms/step\n",
            "Epoch 16/40\n",
            "19/19 - 1s - loss: 1.6117 - accuracy: 0.5850 - val_loss: 1.7962 - val_accuracy: 0.4867 - 642ms/epoch - 34ms/step\n",
            "Epoch 17/40\n",
            "19/19 - 1s - loss: 1.5375 - accuracy: 0.5800 - val_loss: 1.7663 - val_accuracy: 0.4867 - 681ms/epoch - 36ms/step\n",
            "Epoch 18/40\n",
            "19/19 - 1s - loss: 1.4381 - accuracy: 0.6117 - val_loss: 1.7144 - val_accuracy: 0.5333 - 622ms/epoch - 33ms/step\n",
            "Epoch 19/40\n",
            "19/19 - 1s - loss: 1.4480 - accuracy: 0.6050 - val_loss: 1.6827 - val_accuracy: 0.5267 - 619ms/epoch - 33ms/step\n",
            "Epoch 20/40\n",
            "19/19 - 1s - loss: 1.4039 - accuracy: 0.6117 - val_loss: 1.6540 - val_accuracy: 0.5333 - 598ms/epoch - 31ms/step\n",
            "Epoch 21/40\n",
            "19/19 - 1s - loss: 1.3307 - accuracy: 0.6350 - val_loss: 1.6340 - val_accuracy: 0.5400 - 650ms/epoch - 34ms/step\n",
            "Epoch 22/40\n",
            "19/19 - 1s - loss: 1.2563 - accuracy: 0.6800 - val_loss: 1.6044 - val_accuracy: 0.5400 - 628ms/epoch - 33ms/step\n",
            "Epoch 23/40\n",
            "19/19 - 1s - loss: 1.2605 - accuracy: 0.6533 - val_loss: 1.5837 - val_accuracy: 0.5533 - 610ms/epoch - 32ms/step\n",
            "Epoch 24/40\n",
            "19/19 - 1s - loss: 1.1715 - accuracy: 0.6900 - val_loss: 1.5640 - val_accuracy: 0.5467 - 635ms/epoch - 33ms/step\n",
            "Epoch 25/40\n",
            "19/19 - 1s - loss: 1.1382 - accuracy: 0.7017 - val_loss: 1.5538 - val_accuracy: 0.5533 - 627ms/epoch - 33ms/step\n",
            "Epoch 26/40\n",
            "19/19 - 1s - loss: 1.1286 - accuracy: 0.6683 - val_loss: 1.5345 - val_accuracy: 0.5533 - 626ms/epoch - 33ms/step\n",
            "Epoch 27/40\n",
            "19/19 - 1s - loss: 1.1325 - accuracy: 0.6883 - val_loss: 1.5131 - val_accuracy: 0.5867 - 624ms/epoch - 33ms/step\n",
            "Epoch 28/40\n",
            "19/19 - 1s - loss: 1.0897 - accuracy: 0.7150 - val_loss: 1.5199 - val_accuracy: 0.5733 - 616ms/epoch - 32ms/step\n",
            "Epoch 29/40\n",
            "19/19 - 1s - loss: 1.0135 - accuracy: 0.7200 - val_loss: 1.4988 - val_accuracy: 0.5600 - 611ms/epoch - 32ms/step\n",
            "Epoch 30/40\n",
            "19/19 - 1s - loss: 0.9596 - accuracy: 0.7550 - val_loss: 1.4874 - val_accuracy: 0.5800 - 613ms/epoch - 32ms/step\n",
            "Epoch 31/40\n",
            "19/19 - 1s - loss: 1.0072 - accuracy: 0.7400 - val_loss: 1.4733 - val_accuracy: 0.6000 - 601ms/epoch - 32ms/step\n",
            "Epoch 32/40\n",
            "19/19 - 1s - loss: 0.8844 - accuracy: 0.7733 - val_loss: 1.4557 - val_accuracy: 0.6133 - 635ms/epoch - 33ms/step\n",
            "Epoch 33/40\n",
            "19/19 - 1s - loss: 0.8759 - accuracy: 0.7783 - val_loss: 1.4435 - val_accuracy: 0.6267 - 627ms/epoch - 33ms/step\n",
            "Epoch 34/40\n",
            "19/19 - 1s - loss: 0.8638 - accuracy: 0.7817 - val_loss: 1.4444 - val_accuracy: 0.5867 - 605ms/epoch - 32ms/step\n",
            "Epoch 35/40\n",
            "19/19 - 1s - loss: 0.8395 - accuracy: 0.7950 - val_loss: 1.4335 - val_accuracy: 0.6067 - 629ms/epoch - 33ms/step\n",
            "Epoch 36/40\n",
            "19/19 - 1s - loss: 0.8257 - accuracy: 0.7833 - val_loss: 1.4240 - val_accuracy: 0.6067 - 626ms/epoch - 33ms/step\n",
            "Epoch 37/40\n",
            "19/19 - 1s - loss: 0.8094 - accuracy: 0.7917 - val_loss: 1.4127 - val_accuracy: 0.6133 - 638ms/epoch - 34ms/step\n",
            "Epoch 38/40\n",
            "19/19 - 1s - loss: 0.8195 - accuracy: 0.8000 - val_loss: 1.3963 - val_accuracy: 0.6400 - 610ms/epoch - 32ms/step\n",
            "Epoch 39/40\n",
            "19/19 - 1s - loss: 0.7683 - accuracy: 0.8133 - val_loss: 1.3992 - val_accuracy: 0.6400 - 626ms/epoch - 33ms/step\n",
            "Epoch 40/40\n",
            "19/19 - 1s - loss: 0.7640 - accuracy: 0.7900 - val_loss: 1.4119 - val_accuracy: 0.6267 - 645ms/epoch - 34ms/step\n",
            "Model: \"sequential_6\"\n",
            "_________________________________________________________________\n",
            " Layer (type)                Output Shape              Param #   \n",
            "=================================================================\n",
            " conv2d_6 (Conv2D)           (None, 27, 27, 32)        160       \n",
            "                                                                 \n",
            " max_pooling2d_6 (MaxPooling  (None, 13, 13, 32)       0         \n",
            " 2D)                                                             \n",
            "                                                                 \n",
            " flatten_6 (Flatten)         (None, 5408)              0         \n",
            "                                                                 \n",
            " dense_18 (Dense)            (None, 250)               1352250   \n",
            "                                                                 \n",
            " dropout_12 (Dropout)        (None, 250)               0         \n",
            "                                                                 \n",
            " dense_19 (Dense)            (None, 120)               30120     \n",
            "                                                                 \n",
            " dropout_13 (Dropout)        (None, 120)               0         \n",
            "                                                                 \n",
            " dense_20 (Dense)            (None, 26)                3146      \n",
            "                                                                 \n",
            "=================================================================\n",
            "Total params: 1,385,676\n",
            "Trainable params: 1,385,676\n",
            "Non-trainable params: 0\n",
            "_________________________________________________________________\n"
          ]
        }
      ]
    },
    {
      "cell_type": "code",
      "source": [
        "c_model.save(SAVE_PATH + \"c_model\")"
      ],
      "metadata": {
        "id": "YCfaAIYF-UFE"
      },
      "execution_count": null,
      "outputs": []
    },
    {
      "cell_type": "code",
      "source": [
        "prediction = c_model.predict(x_train[:1])\n",
        "classes_x=np.argmax(prediction,axis=1)\n",
        "print(classes_x)"
      ],
      "metadata": {
        "colab": {
          "base_uri": "https://localhost:8080/"
        },
        "id": "8fJqh69lBsTF",
        "outputId": "949b1614-eb93-4b39-c437-960e62c50966"
      },
      "execution_count": null,
      "outputs": [
        {
          "output_type": "stream",
          "name": "stdout",
          "text": [
            "[13]\n"
          ]
        }
      ]
    },
    {
      "cell_type": "code",
      "source": [
        "c_acc = c_history.history['accuracy']\n",
        "c_val_acc = c_history.history['val_accuracy']\n",
        "c_loss = c_history.history['loss']\n",
        "c_val_loss = c_history.history['val_loss']\n",
        "epochs = range(1,len(c_acc)+1)"
      ],
      "metadata": {
        "id": "qbo3JS7KE6pz"
      },
      "execution_count": null,
      "outputs": []
    },
    {
      "cell_type": "code",
      "source": [
        "plotgraph(epochs, c_loss, c_val_loss, \"Loss\")"
      ],
      "metadata": {
        "colab": {
          "base_uri": "https://localhost:8080/",
          "height": 376
        },
        "id": "6dlr02EnFDD0",
        "outputId": "05bbcdf5-e098-4178-9a84-ca7c8859e389"
      },
      "execution_count": null,
      "outputs": [
        {
          "output_type": "display_data",
          "data": {
            "text/plain": [
              "<Figure size 576x396 with 1 Axes>"
            ],
            "image/png": "[encoded data removed]"
          },
          "metadata": {}
        }
      ]
    },
    {
      "cell_type": "code",
      "source": [
        "plotgraph(epochs, c_acc, c_val_acc, \"Accuracy\")"
      ],
      "metadata": {
        "colab": {
          "base_uri": "https://localhost:8080/",
          "height": 376
        },
        "id": "qSmJn4vPFL53",
        "outputId": "9ff3d175-708f-4d2b-edcc-1fba6db38f28"
      },
      "execution_count": null,
      "outputs": [
        {
          "output_type": "display_data",
          "data": {
            "text/plain": [
              "<Figure size 576x396 with 1 Axes>"
            ],
            "image/png": "[encoded data removed]"
          },
          "metadata": {}
        }
      ]
    },
    {
      "cell_type": "code",
      "source": [
        "import matplotlib.pyplot as plt\n",
        "\n",
        "plt.style.use(\"seaborn\")\n",
        "fig, (ax1, ax2) = plt.subplots(2, 1, figsize=(8, 9))\n",
        "\n",
        "ax1.plot(q_history.history[\"val_accuracy\"], \"-ob\", label=\"With quantum layer\")\n",
        "ax1.plot(c_history.history[\"val_accuracy\"], \"-og\", label=\"Without quantum layer\")\n",
        "ax1.set_ylabel(\"Accuracy\")\n",
        "ax1.set_ylim([0, 1])\n",
        "ax1.set_xlabel(\"Epoch\")\n",
        "ax1.legend()\n",
        "\n",
        "ax2.plot(q_history.history[\"val_loss\"], \"-ob\", label=\"With quantum layer\")\n",
        "ax2.plot(c_history.history[\"val_loss\"], \"-og\", label=\"Without quantum layer\")\n",
        "ax2.set_ylabel(\"Loss\")\n",
        "ax2.set_ylim(top=5.5)\n",
        "ax2.set_xlabel(\"Epoch\")\n",
        "ax2.legend()\n",
        "plt.tight_layout()\n",
        "plt.show()\n",
        "print(\"accuracy difference:\", q_history.history[\"val_accuracy\"][-1] - c_history.history[\"val_accuracy\"][-1])\n",
        "print(\"loss difference:\", c_history.history[\"val_loss\"][-1] - q_history.history[\"val_loss\"][-1])"
      ],
      "metadata": {
        "colab": {
          "base_uri": "https://localhost:8080/",
          "height": 692
        },
        "id": "lrCm1u1TFlpV",
        "outputId": "a1717d8a-000e-4449-f583-44c615872db5"
      },
      "execution_count": null,
      "outputs": [
        {
          "output_type": "display_data",
          "data": {
            "text/plain": [
              "<Figure size 576x648 with 2 Axes>"
            ],
            "image/png": "[encoded data removed]"
          },
          "metadata": {}
        },
        {
          "output_type": "stream",
          "name": "stdout",
          "text": [
            "accuracy difference: 0.04666668176651001\n",
            "loss difference: 0.2723027467727661\n"
          ]
        }
      ]
    },
    {
      "cell_type": "code",
      "source": [
        "plt.style.use(\"seaborn\")\n",
        "fig, (ax1, ax2) = plt.subplots(2, 1, figsize=(8, 9))\n",
        "\n",
        "ax1.plot(q_history.history[\"accuracy\"], \"-ob\", label=\"With quantum layer\")\n",
        "ax1.plot(c_history.history[\"accuracy\"], \"-og\", label=\"Without quantum layer\")\n",
        "ax1.set_ylabel(\"Accuracy\")\n",
        "ax1.set_ylim([0, 1])\n",
        "ax1.set_xlabel(\"Epoch\")\n",
        "ax1.legend()\n",
        "\n",
        "ax2.plot(q_history.history[\"loss\"], \"-ob\", label=\"With quantum layer\")\n",
        "ax2.plot(c_history.history[\"loss\"], \"-og\", label=\"Without quantum layer\")\n",
        "ax2.set_ylabel(\"Loss\")\n",
        "ax2.set_ylim(top=5.5)\n",
        "ax2.set_xlabel(\"Epoch\")\n",
        "ax2.legend()\n",
        "plt.tight_layout()\n",
        "plt.show()\n",
        "print(\"accuracy difference:\", q_history.history[\"accuracy\"][-1] - c_history.history[\"accuracy\"][-1])\n",
        "print(\"loss difference:\", c_history.history[\"loss\"][-1] - q_history.history[\"loss\"][-1])"
      ],
      "metadata": {
        "id": "BUB9fgRXne_N",
        "colab": {
          "base_uri": "https://localhost:8080/",
          "height": 692
        },
        "outputId": "6bee7a20-74dc-498f-f99f-37cdd1028fb6"
      },
      "execution_count": null,
      "outputs": [
        {
          "output_type": "display_data",
          "data": {
            "text/plain": [
              "<Figure size 576x648 with 2 Axes>"
            ],
            "image/png": "[encoded data removed]"
          },
          "metadata": {}
        },
        {
          "output_type": "stream",
          "name": "stdout",
          "text": [
            "accuracy difference: 0.1899999976158142\n",
            "loss difference: 0.6635864302515984\n"
          ]
        }
      ]
    },
    {
      "cell_type": "code",
      "source": [
        ""
      ],
      "metadata": {
        "id": "3pBXWdQnAKRE"
      },
      "execution_count": null,
      "outputs": []
    }
  ],
  "metadata": {
    "colab": {
      "name": "EMNIST Mini_600_32layers.ipynb",
      "provenance": [],
      "collapsed_sections": [],
      "include_colab_link": true
    },
    "kernelspec": {
      "display_name": "Python 3",
      "name": "python3"
    },
    "language_info": {
      "name": "python"
    },
    "accelerator": "GPU",
    "gpuClass": "standard"
  },
  "nbformat": 4,
  "nbformat_minor": 0
}